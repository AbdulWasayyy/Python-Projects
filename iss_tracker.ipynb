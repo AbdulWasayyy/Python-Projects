{
 "cells": [
  {
   "cell_type": "markdown",
   "id": "643db32d-9d0e-42e5-a24d-ec587dd6b767",
   "metadata": {},
   "source": [
    "## # 🚀 ISS Overhead Notifier\n",
    "\n",
    "This Python script sends you an **email notification** when the **International Space Station (ISS)** is flying above your location **at night** — so you can look up and spot it in the sky!\n",
    "\n",
    "---\n",
    "\n",
    "## 🧠 How It Works\n",
    "1. The script continuously checks the **current ISS position** using the [Open Notify ISS API](http://api.open-notify.org/iss-now.json).  \n",
    "2. It also checks **sunrise and sunset times** for your location using the [Sunrise-Sunset API](https://sunrise-sunset.org/api).  \n",
    "3. Every 60 seconds, it compares your location and the ISS coordinates.\n",
    "4. If the ISS is within ±5° latitude and longitude **and** it’s nighttime, the script sends you an **email alert**.\n",
    "\n",
    "---\n",
    "\n",
    "## 🧩 Requirements\n",
    "Install the required libraries:\n",
    "```bash\n",
    "pip install requests\n"
   ]
  },
  {
   "cell_type": "code",
   "execution_count": null,
   "id": "1598ab77-69bc-47cf-a4bd-cf312882dc81",
   "metadata": {},
   "outputs": [],
   "source": [
    "import requests\n",
    "from datetime import datetime\n",
    "import smtplib\n",
    "import time\n",
    "\n",
    "MY_EMAIL = \"YOUR_EMAIL@example.com\"\n",
    "MY_PASSWORD = \"YOUR_PASSWORD\"\n",
    "MY_LAT = 51.507351\n",
    "MY_LONG = -0.127758\n",
    "SMTP_ADDRESS = \"smtp.gmail.com\"\n",
    "\n",
    "def is_iss_overhead():\n",
    "    response = requests.get(url=\"http://api.open-notify.org/iss-now.json\")\n",
    "    response.raise_for_status()\n",
    "    data = response.json()\n",
    "    iss_latitude = float(data[\"iss_position\"][\"latitude\"])\n",
    "    iss_longitude = float(data[\"iss_position\"][\"longitude\"])\n",
    "    if (MY_LAT - 5) <= iss_latitude <= (MY_LAT + 5) and (MY_LONG - 5) <= iss_longitude <= (MY_LONG + 5):\n",
    "        return True\n",
    "    return False\n",
    "\n",
    "def is_night():\n",
    "    parameters = {\n",
    "        \"lat\": MY_LAT,\n",
    "        \"lng\": MY_LONG,\n",
    "        \"formatted\": 0,\n",
    "    }\n",
    "    response = requests.get(\"https://api.sunrise-sunset.org/json\", params=parameters)\n",
    "    response.raise_for_status()\n",
    "    data = response.json()\n",
    "    sunrise = int(data[\"results\"][\"sunrise\"].split(\"T\")[1].split(\":\")[0])\n",
    "    sunset = int(data[\"results\"][\"sunset\"].split(\"T\")[1].split(\":\")[0])\n",
    "    time_now = datetime.utcnow().hour\n",
    "    if time_now >= sunset or time_now <= sunrise:\n",
    "        return True\n",
    "    return False\n",
    "\n",
    "while True:\n",
    "    time.sleep(60)\n",
    "    if is_iss_overhead() and is_night():\n",
    "        with smtplib.SMTP(SMTP_ADDRESS, port=587) as connection:\n",
    "            connection.starttls()\n",
    "            connection.login(MY_EMAIL, MY_PASSWORD)\n",
    "            connection.sendmail(\n",
    "                from_addr=MY_EMAIL,\n",
    "                to_addrs=MY_EMAIL,\n",
    "                msg=\"Subject:Look Up👆\\n\\nThe ISS is above you in the sky!\"\n",
    "            )\n",
    "        print(\"Email sent! The ISS is above you.\")\n"
   ]
  },
  {
   "cell_type": "markdown",
   "id": "24b392e4-67b3-4107-bf7b-37d29df0c9aa",
   "metadata": {},
   "source": [
    "## 🛰️ Notes\n",
    "The ISS orbits Earth roughly every 90 minutes, so it can appear multiple times per night.\n",
    "\n",
    "Be sure to run this script continuously for real-time notifications.\n",
    "\n",
    "Happy skywatching! 🌠"
   ]
  },
  {
   "cell_type": "code",
   "execution_count": null,
   "id": "2817936d-138e-41fd-ac60-5a80d0a2f724",
   "metadata": {},
   "outputs": [],
   "source": []
  }
 ],
 "metadata": {
  "kernelspec": {
   "display_name": "Python 3 (ipykernel)",
   "language": "python",
   "name": "python3"
  },
  "language_info": {
   "codemirror_mode": {
    "name": "ipython",
    "version": 3
   },
   "file_extension": ".py",
   "mimetype": "text/x-python",
   "name": "python",
   "nbconvert_exporter": "python",
   "pygments_lexer": "ipython3",
   "version": "3.13.7"
  }
 },
 "nbformat": 4,
 "nbformat_minor": 5
}
