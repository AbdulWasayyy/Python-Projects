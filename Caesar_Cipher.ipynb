{
 "cells": [
  {
   "cell_type": "markdown",
   "id": "32897399-5cf6-402d-bd0a-101f19ec66a6",
   "metadata": {},
   "source": [
    "# 🔐 Caesar Cipher\n",
    "\n",
    "### 📖 Introduction\n",
    "The **Caesar Cipher** is one of the oldest and simplest methods of encryption.  \n",
    "It works by shifting each letter in a message by a fixed number of positions in the alphabet.  \n",
    "For example, with a shift of 3, **A → D**, **B → E**, and so on.\n",
    "\n",
    "---\n",
    "\n",
    "### ⚙️ What This Code Does\n",
    "This Python program allows the user to:\n",
    "1. **Encrypt** a message by shifting letters forward (encode)\n",
    "2. **Decrypt** a message by shifting letters backward (decode)\n",
    "3. Choose the **shift value** to determine how many positions each letter moves\n",
    "\n",
    "The program takes three inputs:\n",
    "- **Direction:** `'encode'` or `'decode'`  \n",
    "- **Message:** The text to be encrypted or decrypted  \n",
    "- **Shift Number:** The number of positions to shift letters  \n",
    "\n",
    "It then outputs the final **encoded or decoded** message.\n",
    "\n",
    "---\n",
    "\n",
    "### 🧠 Example\n",
    "| Action | Message | Shift | Result |\n",
    "|:--------|:---------|:--------:|:--------|\n",
    "| Encode | hello | 5 | mjqqt |\n",
    "| Decode | mjqqt | 5 | hello |\n",
    "\n",
    "---\n",
    "\n",
    "### 🐍 Language & Tools\n",
    "- **Language:** Python  \n",
    "- **Tool:** Jupyter Notebook  \n",
    "- **Concepts Used:** Strings, Loops, Functions, Conditional Statements\n"
   ]
  },
  {
   "cell_type": "code",
   "execution_count": 3,
   "id": "91865c61-1dd9-4ac6-a36f-3dc054b0342c",
   "metadata": {},
   "outputs": [
    {
     "name": "stdin",
     "output_type": "stream",
     "text": [
      "Type 'encode' to encrypt, type 'decode' to decrypt:\n",
      " decode\n",
      "Type your message:\n",
      " jrrjoh\n",
      "Type the shift number:\n",
      " 3\n"
     ]
    },
    {
     "name": "stdout",
     "output_type": "stream",
     "text": [
      "The decoded text is google\n"
     ]
    }
   ],
   "source": [
    "#CAESAR CIPHER\n",
    "\n",
    "alphabet = ['a', 'b', 'c', 'd', 'e', 'f', 'g', 'h', 'i', 'j', 'k', 'l',\n",
    "            'm', 'n', 'o', 'p', 'q', 'r', 's', 't', 'u', 'v', 'w', 'x', 'y', 'z','a', 'b', 'c', 'd', 'e', 'f', 'g', 'h', 'i', 'j', 'k', 'l',\n",
    "            'm', 'n', 'o', 'p', 'q', 'r', 's', 't', 'u', 'v', 'w', 'x', 'y', 'z']\n",
    "\n",
    "direction = input(\"Type 'encode' to encrypt, type 'decode' to decrypt:\\n\")\n",
    "\n",
    "text = input(\"Type your message:\\n\").lower()\n",
    "\n",
    "shift = int(input(\"Type the shift number:\\n\"))\n",
    "\n",
    "def encrypt(plain_text, shift_amount ):\n",
    "    cipher_text = \"\"\n",
    "\n",
    "    for letter in plain_text:\n",
    "        position = alphabet.index(letter)\n",
    "        new_position = position + shift_amount\n",
    "        new_letter = alphabet[new_position]\n",
    "        cipher_text += new_letter\n",
    "    print(f\"The encoded text is {cipher_text}\")\n",
    "\n",
    "\n",
    "def decrypt (cipher_text, shift_amount):\n",
    "    decode_text = \"\"\n",
    "\n",
    "    for letter in cipher_text:\n",
    "        position = alphabet.index(letter)\n",
    "        new_position = position - shift_amount\n",
    "        new_letter = alphabet[new_position]\n",
    "        decode_text += new_letter\n",
    "    print(f\"The decoded text is {decode_text}\")\n",
    "\n",
    "\n",
    "if direction == \"encode\":\n",
    "    encrypt(plain_text=text, shift_amount=shift)\n",
    "elif direction == \"decode\":\n",
    "    decrypt(cipher_text=text, shift_amount=shift)\n",
    "else:\n",
    "    print(\"Invalid input\")\n"
   ]
  },
  {
   "cell_type": "code",
   "execution_count": null,
   "id": "51d77665-7db8-41c9-a2da-2d9f8f5c0eca",
   "metadata": {},
   "outputs": [],
   "source": []
  }
 ],
 "metadata": {
  "kernelspec": {
   "display_name": "Python 3 (ipykernel)",
   "language": "python",
   "name": "python3"
  },
  "language_info": {
   "codemirror_mode": {
    "name": "ipython",
    "version": 3
   },
   "file_extension": ".py",
   "mimetype": "text/x-python",
   "name": "python",
   "nbconvert_exporter": "python",
   "pygments_lexer": "ipython3",
   "version": "3.13.7"
  }
 },
 "nbformat": 4,
 "nbformat_minor": 5
}
